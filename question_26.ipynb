{
 "cells": [
  {
   "cell_type": "code",
   "execution_count": 1,
   "id": "07fde2d1",
   "metadata": {},
   "outputs": [],
   "source": [
    "import pandas as pd"
   ]
  },
  {
   "cell_type": "code",
   "execution_count": 4,
   "id": "1605f9fd",
   "metadata": {},
   "outputs": [],
   "source": [
    "import pandas as pd\n",
    "\n",
    "def count_null_departure_dates(dataframe):\n",
    "    \"\"\"\n",
    "    This function takes a dataframe and returns the count of null values in the 'departure_date' column.\n",
    "    \n",
    "    :param dataframe: pd.DataFrame\n",
    "    :return: int\n",
    "    \"\"\"\n",
    "    # Check if 'departure_date' column exists\n",
    "    if 'departure_date' not in dataframe.columns:\n",
    "        raise ValueError(\"The dataframe does not have a 'departure_date' column.\")\n",
    "    \n",
    "    # Count null values in the 'departure_date' column\n",
    "    null_count = dataframe['departure_date'].isna().sum()\n",
    "    \n",
    "    return null_count\n",
    "\n",
    "# Example usage\n",
    "# Assuming df is your ticket sales dataframe\n",
    "# df = pd.read_csv('ticket_sales.csv')\n",
    "# null_count = count_null_departure_dates(df)\n",
    "# print(f\"Number of null departure dates: {null_count}\")\n",
    "\n"
   ]
  },
  {
   "cell_type": "code",
   "execution_count": null,
   "id": "39810a85",
   "metadata": {},
   "outputs": [],
   "source": []
  }
 ],
 "metadata": {
  "kernelspec": {
   "display_name": "Python 3 (ipykernel)",
   "language": "python",
   "name": "python3"
  },
  "language_info": {
   "codemirror_mode": {
    "name": "ipython",
    "version": 3
   },
   "file_extension": ".py",
   "mimetype": "text/x-python",
   "name": "python",
   "nbconvert_exporter": "python",
   "pygments_lexer": "ipython3",
   "version": "3.11.5"
  }
 },
 "nbformat": 4,
 "nbformat_minor": 5
}
