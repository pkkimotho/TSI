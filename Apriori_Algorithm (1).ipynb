{
 "cells": [
  {
   "cell_type": "code",
   "execution_count": 1,
   "id": "738b7573",
   "metadata": {},
   "outputs": [],
   "source": [
    "#!pip install mlxtend"
   ]
  },
  {
   "cell_type": "code",
   "execution_count": null,
   "id": "6af15617",
   "metadata": {},
   "outputs": [],
   "source": [
    "import numpy as np\n",
    "import pandas as pd\n",
    "from mlxtend.frequent_patterns import apriori\n",
    "from mlxtend.frequent_patterns import association_rules"
   ]
  },
  {
   "cell_type": "code",
   "execution_count": 3,
   "id": "e4dc767c",
   "metadata": {
    "scrolled": false
   },
   "outputs": [
    {
     "data": {
      "text/html": [
       "<div>\n",
       "<style scoped>\n",
       "    .dataframe tbody tr th:only-of-type {\n",
       "        vertical-align: middle;\n",
       "    }\n",
       "\n",
       "    .dataframe tbody tr th {\n",
       "        vertical-align: top;\n",
       "    }\n",
       "\n",
       "    .dataframe thead th {\n",
       "        text-align: right;\n",
       "    }\n",
       "</style>\n",
       "<table border=\"1\" class=\"dataframe\">\n",
       "  <thead>\n",
       "    <tr style=\"text-align: right;\">\n",
       "      <th></th>\n",
       "      <th>InvoiceNo</th>\n",
       "      <th>StockCode</th>\n",
       "      <th>Description</th>\n",
       "      <th>Quantity</th>\n",
       "      <th>InvoiceDate</th>\n",
       "      <th>UnitPrice</th>\n",
       "      <th>CustomerID</th>\n",
       "      <th>Country</th>\n",
       "    </tr>\n",
       "  </thead>\n",
       "  <tbody>\n",
       "    <tr>\n",
       "      <th>0</th>\n",
       "      <td>536365</td>\n",
       "      <td>85123A</td>\n",
       "      <td>WHITE HANGING HEART T-LIGHT HOLDER</td>\n",
       "      <td>6</td>\n",
       "      <td>2010-12-01 08:26:00</td>\n",
       "      <td>2.55</td>\n",
       "      <td>17850.0</td>\n",
       "      <td>United Kingdom</td>\n",
       "    </tr>\n",
       "    <tr>\n",
       "      <th>1</th>\n",
       "      <td>536365</td>\n",
       "      <td>71053</td>\n",
       "      <td>WHITE METAL LANTERN</td>\n",
       "      <td>6</td>\n",
       "      <td>2010-12-01 08:26:00</td>\n",
       "      <td>3.39</td>\n",
       "      <td>17850.0</td>\n",
       "      <td>United Kingdom</td>\n",
       "    </tr>\n",
       "    <tr>\n",
       "      <th>2</th>\n",
       "      <td>536365</td>\n",
       "      <td>84406B</td>\n",
       "      <td>CREAM CUPID HEARTS COAT HANGER</td>\n",
       "      <td>8</td>\n",
       "      <td>2010-12-01 08:26:00</td>\n",
       "      <td>2.75</td>\n",
       "      <td>17850.0</td>\n",
       "      <td>United Kingdom</td>\n",
       "    </tr>\n",
       "    <tr>\n",
       "      <th>3</th>\n",
       "      <td>536365</td>\n",
       "      <td>84029G</td>\n",
       "      <td>KNITTED UNION FLAG HOT WATER BOTTLE</td>\n",
       "      <td>6</td>\n",
       "      <td>2010-12-01 08:26:00</td>\n",
       "      <td>3.39</td>\n",
       "      <td>17850.0</td>\n",
       "      <td>United Kingdom</td>\n",
       "    </tr>\n",
       "    <tr>\n",
       "      <th>4</th>\n",
       "      <td>536365</td>\n",
       "      <td>84029E</td>\n",
       "      <td>RED WOOLLY HOTTIE WHITE HEART.</td>\n",
       "      <td>6</td>\n",
       "      <td>2010-12-01 08:26:00</td>\n",
       "      <td>3.39</td>\n",
       "      <td>17850.0</td>\n",
       "      <td>United Kingdom</td>\n",
       "    </tr>\n",
       "  </tbody>\n",
       "</table>\n",
       "</div>"
      ],
      "text/plain": [
       "  InvoiceNo StockCode                          Description  Quantity  \\\n",
       "0    536365    85123A   WHITE HANGING HEART T-LIGHT HOLDER         6   \n",
       "1    536365     71053                  WHITE METAL LANTERN         6   \n",
       "2    536365    84406B       CREAM CUPID HEARTS COAT HANGER         8   \n",
       "3    536365    84029G  KNITTED UNION FLAG HOT WATER BOTTLE         6   \n",
       "4    536365    84029E       RED WOOLLY HOTTIE WHITE HEART.         6   \n",
       "\n",
       "          InvoiceDate  UnitPrice  CustomerID         Country  \n",
       "0 2010-12-01 08:26:00       2.55     17850.0  United Kingdom  \n",
       "1 2010-12-01 08:26:00       3.39     17850.0  United Kingdom  \n",
       "2 2010-12-01 08:26:00       2.75     17850.0  United Kingdom  \n",
       "3 2010-12-01 08:26:00       3.39     17850.0  United Kingdom  \n",
       "4 2010-12-01 08:26:00       3.39     17850.0  United Kingdom  "
      ]
     },
     "execution_count": 3,
     "metadata": {},
     "output_type": "execute_result"
    }
   ],
   "source": [
    "df = pd.read_excel('http://archive.ics.uci.edu/ml/machine-learning-databases/00352/Online%20Retail.xlsx')\n",
    "df.to_csv(r'C:\\Users\\USER\\Desktop\\DATA  SCIENCE\\Apriori.csv')\n",
    "df.head()"
   ]
  },
  {
   "cell_type": "code",
   "execution_count": 4,
   "id": "4442d5ea",
   "metadata": {},
   "outputs": [
    {
     "data": {
      "text/plain": [
       "Index(['InvoiceNo', 'StockCode', 'Description', 'Quantity', 'InvoiceDate',\n",
       "       'UnitPrice', 'CustomerID', 'Country'],\n",
       "      dtype='object')"
      ]
     },
     "execution_count": 4,
     "metadata": {},
     "output_type": "execute_result"
    }
   ],
   "source": [
    "df.columns"
   ]
  },
  {
   "cell_type": "code",
   "execution_count": 5,
   "id": "12d7d460",
   "metadata": {},
   "outputs": [
    {
     "data": {
      "text/html": [
       "<div>\n",
       "<style scoped>\n",
       "    .dataframe tbody tr th:only-of-type {\n",
       "        vertical-align: middle;\n",
       "    }\n",
       "\n",
       "    .dataframe tbody tr th {\n",
       "        vertical-align: top;\n",
       "    }\n",
       "\n",
       "    .dataframe thead th {\n",
       "        text-align: right;\n",
       "    }\n",
       "</style>\n",
       "<table border=\"1\" class=\"dataframe\">\n",
       "  <thead>\n",
       "    <tr style=\"text-align: right;\">\n",
       "      <th></th>\n",
       "      <th>InvoiceNo</th>\n",
       "      <th>StockCode</th>\n",
       "      <th>Description</th>\n",
       "      <th>Quantity</th>\n",
       "      <th>InvoiceDate</th>\n",
       "      <th>UnitPrice</th>\n",
       "      <th>CustomerID</th>\n",
       "      <th>Country</th>\n",
       "    </tr>\n",
       "  </thead>\n",
       "  <tbody>\n",
       "    <tr>\n",
       "      <th>0</th>\n",
       "      <td>536365</td>\n",
       "      <td>85123A</td>\n",
       "      <td>WHITE HANGING HEART T-LIGHT HOLDER</td>\n",
       "      <td>6</td>\n",
       "      <td>2010-12-01 08:26:00</td>\n",
       "      <td>2.55</td>\n",
       "      <td>17850.0</td>\n",
       "      <td>United Kingdom</td>\n",
       "    </tr>\n",
       "    <tr>\n",
       "      <th>1</th>\n",
       "      <td>536365</td>\n",
       "      <td>71053</td>\n",
       "      <td>WHITE METAL LANTERN</td>\n",
       "      <td>6</td>\n",
       "      <td>2010-12-01 08:26:00</td>\n",
       "      <td>3.39</td>\n",
       "      <td>17850.0</td>\n",
       "      <td>United Kingdom</td>\n",
       "    </tr>\n",
       "    <tr>\n",
       "      <th>2</th>\n",
       "      <td>536365</td>\n",
       "      <td>84406B</td>\n",
       "      <td>CREAM CUPID HEARTS COAT HANGER</td>\n",
       "      <td>8</td>\n",
       "      <td>2010-12-01 08:26:00</td>\n",
       "      <td>2.75</td>\n",
       "      <td>17850.0</td>\n",
       "      <td>United Kingdom</td>\n",
       "    </tr>\n",
       "    <tr>\n",
       "      <th>3</th>\n",
       "      <td>536365</td>\n",
       "      <td>84029G</td>\n",
       "      <td>KNITTED UNION FLAG HOT WATER BOTTLE</td>\n",
       "      <td>6</td>\n",
       "      <td>2010-12-01 08:26:00</td>\n",
       "      <td>3.39</td>\n",
       "      <td>17850.0</td>\n",
       "      <td>United Kingdom</td>\n",
       "    </tr>\n",
       "    <tr>\n",
       "      <th>4</th>\n",
       "      <td>536365</td>\n",
       "      <td>84029E</td>\n",
       "      <td>RED WOOLLY HOTTIE WHITE HEART.</td>\n",
       "      <td>6</td>\n",
       "      <td>2010-12-01 08:26:00</td>\n",
       "      <td>3.39</td>\n",
       "      <td>17850.0</td>\n",
       "      <td>United Kingdom</td>\n",
       "    </tr>\n",
       "  </tbody>\n",
       "</table>\n",
       "</div>"
      ],
      "text/plain": [
       "  InvoiceNo StockCode                          Description  Quantity  \\\n",
       "0    536365    85123A   WHITE HANGING HEART T-LIGHT HOLDER         6   \n",
       "1    536365     71053                  WHITE METAL LANTERN         6   \n",
       "2    536365    84406B       CREAM CUPID HEARTS COAT HANGER         8   \n",
       "3    536365    84029G  KNITTED UNION FLAG HOT WATER BOTTLE         6   \n",
       "4    536365    84029E       RED WOOLLY HOTTIE WHITE HEART.         6   \n",
       "\n",
       "          InvoiceDate  UnitPrice  CustomerID         Country  \n",
       "0 2010-12-01 08:26:00       2.55     17850.0  United Kingdom  \n",
       "1 2010-12-01 08:26:00       3.39     17850.0  United Kingdom  \n",
       "2 2010-12-01 08:26:00       2.75     17850.0  United Kingdom  \n",
       "3 2010-12-01 08:26:00       3.39     17850.0  United Kingdom  \n",
       "4 2010-12-01 08:26:00       3.39     17850.0  United Kingdom  "
      ]
     },
     "execution_count": 5,
     "metadata": {},
     "output_type": "execute_result"
    }
   ],
   "source": [
    "df['Description'] = df['Description'].str.strip() #removing spaces from the beginning of the data\n",
    "df.dropna(axis=0, subset=['InvoiceNo'], inplace=True) #removing duplicates invoice\n",
    "df['InvoiceNo'] = df['InvoiceNo'].astype('str') \n",
    "df = df[~df['InvoiceNo'].str.contains('C')] #removes the credit transactions\n",
    "df.head()"
   ]
  },
  {
   "cell_type": "code",
   "execution_count": 6,
   "id": "da0ff83f",
   "metadata": {},
   "outputs": [
    {
     "data": {
      "text/plain": [
       "array(['WHITE HANGING HEART T-LIGHT HOLDER', 'WHITE METAL LANTERN',\n",
       "       'CREAM CUPID HEARTS COAT HANGER', ..., 'lost',\n",
       "       'CREAM HANGING HEART T-LIGHT HOLDER',\n",
       "       'PAPER CRAFT , LITTLE BIRDIE'], dtype=object)"
      ]
     },
     "execution_count": 6,
     "metadata": {},
     "output_type": "execute_result"
    }
   ],
   "source": [
    "df['Description'].unique()"
   ]
  },
  {
   "cell_type": "code",
   "execution_count": 7,
   "id": "8d4b9ec4",
   "metadata": {},
   "outputs": [
    {
     "data": {
      "text/plain": [
       "Country\n",
       "United Kingdom          487622\n",
       "Germany                   9042\n",
       "France                    8408\n",
       "EIRE                      7894\n",
       "Spain                     2485\n",
       "Netherlands               2363\n",
       "Belgium                   2031\n",
       "Switzerland               1967\n",
       "Portugal                  1501\n",
       "Australia                 1185\n",
       "Norway                    1072\n",
       "Italy                      758\n",
       "Channel Islands            748\n",
       "Finland                    685\n",
       "Cyprus                     614\n",
       "Sweden                     451\n",
       "Unspecified                446\n",
       "Austria                    398\n",
       "Denmark                    380\n",
       "Poland                     330\n",
       "Japan                      321\n",
       "Israel                     295\n",
       "Hong Kong                  284\n",
       "Singapore                  222\n",
       "Iceland                    182\n",
       "USA                        179\n",
       "Canada                     151\n",
       "Greece                     145\n",
       "Malta                      112\n",
       "United Arab Emirates        68\n",
       "European Community          60\n",
       "RSA                         58\n",
       "Lebanon                     45\n",
       "Lithuania                   35\n",
       "Brazil                      32\n",
       "Czech Republic              25\n",
       "Bahrain                     18\n",
       "Saudi Arabia                 9\n",
       "Name: count, dtype: int64"
      ]
     },
     "execution_count": 7,
     "metadata": {},
     "output_type": "execute_result"
    }
   ],
   "source": [
    "df['Country'].value_counts()"
   ]
  },
  {
   "cell_type": "code",
   "execution_count": 8,
   "id": "91748a5c",
   "metadata": {},
   "outputs": [
    {
     "name": "stdout",
     "output_type": "stream",
     "text": [
      "['ASSORTED BOTTLE TOP  MAGNETS' 'GLASS JAR MARMALADE'\n",
      " 'GLASS JAR PEACOCK BATH SALTS' 'GLASS JAR DAISY FRESH COTTON WOOL'\n",
      " 'PLASTERS IN TIN SKULLS' 'PLASTERS IN TIN STRONGMAN'\n",
      " 'PLASTERS IN TIN CIRCUS PARADE' 'GOLD EAR MUFF HEADPHONES'\n",
      " 'HOMEMADE JAM SCENTED CANDLES']\n"
     ]
    }
   ],
   "source": [
    "items_saudia_bought = df[df['Country'] == 'Saudi Arabia']['Description'].unique()\n",
    "print(items_saudia_bought)"
   ]
  },
  {
   "cell_type": "code",
   "execution_count": 19,
   "id": "413740fe",
   "metadata": {},
   "outputs": [
    {
     "data": {
      "text/plain": [
       "array(['WHITE HANGING HEART T-LIGHT HOLDER', 'WHITE METAL LANTERN',\n",
       "       'CREAM CUPID HEARTS COAT HANGER', ...,\n",
       "       'CREAM HANGING HEART T-LIGHT HOLDER',\n",
       "       \"BLACK SIL'T SQU CANDLE PLATE\", 'PAPER CRAFT , LITTLE BIRDIE'],\n",
       "      dtype=object)"
      ]
     },
     "execution_count": 19,
     "metadata": {},
     "output_type": "execute_result"
    }
   ],
   "source": [
    "items_United_Kingdom_bought = df[df['Country'] == 'United Kingdom']['Description'].unique()\n",
    "items_United_Kingdom_bought"
   ]
  },
  {
   "cell_type": "code",
   "execution_count": 16,
   "id": "45cc4170",
   "metadata": {},
   "outputs": [
    {
     "data": {
      "text/plain": [
       "array(['BOX OF 9 PEBBLE CANDLES', 'TUMBLER, BAROQUE',\n",
       "       'SILVER STANDING GNOME', 'ASSORTED COLOUR BIRD ORNAMENT',\n",
       "       'COLOUR GLASS T-LIGHT HOLDER HANGING',\n",
       "       'BLACK CANDELABRA T-LIGHT HOLDER',\n",
       "       'HANGING JAM JAR T-LIGHT HOLDER', 'PAINTED METAL PEARS ASSORTED',\n",
       "       'VINTAGE UNION JACK CUSHION COVER', 'MOROCCAN TEA GLASS',\n",
       "       'RETRO COFFEE MUGS ASSORTED', 'PACK OF 60 SPACEBOY CAKE CASES',\n",
       "       '60 CAKE CASES DOLLY GIRL DESIGN', 'APRON APPLE DELIGHT',\n",
       "       'BULL DOG BOTTLE OPENER', 'SET/3 DECOUPAGE STACKING TINS',\n",
       "       'BLACK KITCHEN SCALES', 'CHILDS BREAKFAST SET DOLLY GIRL',\n",
       "       'CHILDS BREAKFAST SET SPACEBOY', 'SET OF 5 LUCKY CAT MAGNETS',\n",
       "       'TV DINNER TRAY DOLLY GIRL', 'TV DINNER TRAY AIR HOSTESS',\n",
       "       'SPACEBOY TV DINNER TRAY', 'SET 12 KIDS COLOUR  CHALK STICKS',\n",
       "       'SET 12 KIDS  WHITE CHALK STICKS', 'REVOLVER WOODEN RULER',\n",
       "       'WOODEN SCHOOL COLOURING SET', 'COLOURING PENCILS BROWN TUBE',\n",
       "       'PACK OF 12 COLOURED PENCILS', 'PACK OF 12 TRADITIONAL CRAYONS',\n",
       "       'WRAP BAD HAIR DAY', 'WRAP CAROUSEL', 'WRAP ENGLISH ROSE',\n",
       "       'SPACEBOY GIFT WRAP', 'WRAP RED APPLES', 'WRAP GREEN PEARS',\n",
       "       'GINGHAM ROSE WRAP', 'WRAP DOILEY DESIGN',\n",
       "       'BUNDLE OF 3 RETRO NOTE BOOKS',\n",
       "       'BUNDLE OF 3 ALPHABET EXERCISE BOOKS',\n",
       "       'BUNDLE OF 3 SCHOOL EXERCISE BOOKS', 'ALARM CLOCK BAKELIKE ORANGE',\n",
       "       'BLACK BAROQUE WALL CLOCK', 'BLACK BAROQUE CARRIAGE CLOCK',\n",
       "       'GRASS HOPPER WOODEN WALL CLOCK', 'ALARM CLOCK BAKELIKE RED',\n",
       "       'WORLD WAR 2 GLIDERS ASSTD DESIGNS', 'LUNCH BAG  BLACK SKULL.',\n",
       "       'LUNCH BAG SPACEBOY DESIGN', 'LUNCH BAG SUKI DESIGN',\n",
       "       'BAKING SET SPACEBOY DESIGN', 'BAKING SET 9 PIECE RETROSPOT',\n",
       "       'AIRLINE BAG VINTAGE WORLD CHAMPION',\n",
       "       'SKULL LUNCH BOX WITH CUTLERY', 'CHILDRENS APRON SPACEBOY DESIGN',\n",
       "       'LUNCH BAG APPLE DESIGN', 'ABC TREASURE BOOK BOX',\n",
       "       'BUFFALO BILL TREASURE BOOK BOX', 'TREASURE ISLAND BOOK BOX',\n",
       "       'GENTLEMAN SHIRT REPAIR KIT', 'TRAVEL SEWING KIT',\n",
       "       'SEWING SUSAN 21 NEEDLE SET',\n",
       "       'CONDIMENT TRAY 4 BOWLS AND 4 SPOONS', 'SAVE THE PLANET MUG',\n",
       "       'HOME SWEET HOME MUG', 'PIG MUG IN TWO COLOUR DESIGNS',\n",
       "       'PACK OF 60 DINOSAUR CAKE CASES', 'BLACK TEA,COFFEE,SUGAR JARS',\n",
       "       'WHITE TEA,COFFEE,SUGAR JARS', 'LA PALMIERA TILE COASTER',\n",
       "       'BLUE ROUND COMPACT MIRROR', 'WAKE UP COCKEREL TILE COASTER',\n",
       "       'GREEN ROUND COMPACT MIRROR', 'SQUARE CHERRY BLOSSOM CABINET',\n",
       "       'TUMBLER BAROQUE', 'SCOTTIE DOGS BABY BIB',\n",
       "       'PINK/WHITE CHRISTMAS TREE 60CM',\n",
       "       'MAGNETS PACK OF 4 VINTAGE COLLAGE',\n",
       "       'MAGNETS PACK OF 4 RETRO PHOTO', 'MAGNETS PACK OF 4 SWALLOWS',\n",
       "       'MAGNETS PACK OF 4 VINTAGE LABELS',\n",
       "       'MAGNETS PACK OF 4 HOME SWEET HOME', 'BOUDOIR SQUARE TISSUE BOX',\n",
       "       'CARAVAN SQUARE TISSUE BOX', 'SKULLS SQUARE TISSUE BOX',\n",
       "       'MOTORING TISSUE BOX', 'RED RETROSPOT TISSUE BOX',\n",
       "       'NO JUNK MAIL METAL SIGN', '12 PENCILS TALL TUBE POSY',\n",
       "       'HELLO SAILOR BLUE SOAP HOLDER', 'PURPLE PAPER PARASOL',\n",
       "       'PINK PAPER PARASOL', 'RED PAPER PARASOL',\n",
       "       'YELLOW COAT RACK PARIS FASHION', 'BLUE COAT RACK PARIS FASHION',\n",
       "       'RED COAT RACK PARIS FASHION', 'METAL SIGN,CUPCAKE SINGLE HOOK',\n",
       "       'METAL SIGN CUPCAKE SINGLE HOOK',\n",
       "       'MINIATURE ANTIQUE ROSE HOOK IVORY', \"CHILDREN'S APRON DOLLY GIRL\",\n",
       "       'IVORY KITCHEN SCALES', 'MINT KITCHEN SCALES',\n",
       "       'LUNCH BAG WOODLAND', 'LUNCH BAG CARS BLUE',\n",
       "       'STRAWBERRY LUNCH BOX WITH CUTLERY', 'DOLLY GIRL LUNCH BOX',\n",
       "       'CIRCUS PARADE LUNCH BOX', 'LUNCH BAG DOLLY GIRL DESIGN',\n",
       "       'LUNCH BAG ALPHABET DESIGN', 'LUNCH BAG VINTAGE LEAF DESIGN',\n",
       "       'REGENCY TEA PLATE ROSES', 'REGENCY TEA PLATE PINK',\n",
       "       'REGENCY TEA PLATE GREEN', 'DANISH ROSE DECORATIVE PLATE',\n",
       "       'REGENCY SUGAR BOWL GREEN', 'REGENCY MILK JUG PINK',\n",
       "       'PINK DOUGHNUT TRINKET POT', 'STRAWBERRY CERAMIC TRINKET BOX',\n",
       "       'REGENCY CAKESTAND 3 TIER', 'CHILDS BREAKFAST SET CIRCUS PARADE',\n",
       "       'ROSES REGENCY TEACUP AND SAUCER',\n",
       "       'GREEN REGENCY TEACUP AND SAUCER', 'STRAWBERRY FAIRY CAKE TEAPOT',\n",
       "       'REGENCY TEAPOT ROSES', 'PLASTERS IN TIN WOODLAND ANIMALS',\n",
       "       'PLASTERS IN TIN STRONGMAN', 'PLASTERS IN TIN SPACEBOY',\n",
       "       'PLASTERS IN TIN CIRCUS PARADE', 'BLUE TRAVEL FIRST AID KIT',\n",
       "       'DINOSAUR KEYRINGS ASSORTED', 'SET OF 6 NATIVITY MAGNETS',\n",
       "       'SET OF 5 PANCAKE DAY MAGNETS', '10 COLOUR SPACEBOY PEN',\n",
       "       'SMALL YELLOW BABUSHKA NOTEBOOK', 'SMALL RED BABUSHKA NOTEBOOK',\n",
       "       'TREASURE TIN GYMKHANA DESIGN', 'TREASURE TIN BUFFALO BILL',\n",
       "       '4 TRADITIONAL SPINNING TOPS', 'SET OF 6 SOLDIER SKITTLES',\n",
       "       'TRADITIONAL WOODEN CATCH CUP GAME', 'BAG 125g SWIRLY MARBLES',\n",
       "       'POSTAGE', 'FLORAL FOLK STATIONERY SET',\n",
       "       'SET OF 12 MINI LOAF BAKING CASES',\n",
       "       'SET OF 12 FAIRY CAKE BAKING CASES',\n",
       "       'SET OF 6 TEA TIME BAKING CASES',\n",
       "       'SET OF 6 SNACK LOAF BAKING CASES'], dtype=object)"
      ]
     },
     "execution_count": 16,
     "metadata": {},
     "output_type": "execute_result"
    }
   ],
   "source": [
    "items_Canada_bought = df[df['Country'] == 'Canada']['Description'].unique()\n",
    "items_Canada_bought"
   ]
  },
  {
   "cell_type": "code",
   "execution_count": null,
   "id": "548634bd",
   "metadata": {},
   "outputs": [],
   "source": [
    "#To find out the items bought,country of origin with the given customer information;\n",
    "\n",
    "customer_info = df.loc[df['InvoiceNo'] == '573585', ['CustomerID', 'Country','Description']]\n",
    "if not customer_info.empty:\n",
    "    print(customer_info.iloc[0])\n",
    "else:\n",
    "    print(\"No information found for the given InvoiceNo.\")"
   ]
  },
  {
   "cell_type": "code",
   "execution_count": null,
   "id": "6fa2817a",
   "metadata": {},
   "outputs": [],
   "source": [
    "#To find out the items bought,country of origin with the given customer information; Without iloc\n",
    "\n",
    "customer_info = df.loc[df['InvoiceNo'] == '573585', ['CustomerID', 'Country','Description']]\n",
    "if not customer_info.empty:\n",
    "    print(customer_info)\n",
    "else:\n",
    "    print(\"No information found for the given InvoiceNo.\")"
   ]
  },
  {
   "cell_type": "code",
   "execution_count": null,
   "id": "c32852ec",
   "metadata": {},
   "outputs": [],
   "source": [
    "df.shape"
   ]
  },
  {
   "cell_type": "code",
   "execution_count": null,
   "id": "06d70618",
   "metadata": {},
   "outputs": [],
   "source": [
    "df.head(10)"
   ]
  },
  {
   "cell_type": "code",
   "execution_count": null,
   "id": "fd3ea9ed",
   "metadata": {},
   "outputs": [],
   "source": [
    "df.info()"
   ]
  },
  {
   "cell_type": "code",
   "execution_count": null,
   "id": "bfef933b",
   "metadata": {},
   "outputs": [],
   "source": [
    "df.columns"
   ]
  },
  {
   "cell_type": "code",
   "execution_count": null,
   "id": "7a0fa29d",
   "metadata": {
    "scrolled": true
   },
   "outputs": [],
   "source": [
    "#Separating transactions for a certain country\n",
    "\n",
    "germanBasket = (df[df['Country'] == 'Germany']\n",
    "               .groupby(['InvoiceNo','Description'])['Quantity']\n",
    "               .sum().unstack().reset_index().fillna(0).set_index('InvoiceNo'))\n",
    "germanBasket.head()"
   ]
  },
  {
   "cell_type": "code",
   "execution_count": null,
   "id": "ef9368e3",
   "metadata": {},
   "outputs": [],
   "source": [
    "#Encoding the dataset by converting every positive values to 1 and everything else to zero\n",
    "\n",
    "def my_encode_units(x):\n",
    "    if x <=0:\n",
    "        return 0\n",
    "    if x >= 1:\n",
    "        return 1\n",
    "    \n",
    "german_basket_sets = germanBasket.applymap(my_encode_units)\n",
    "german_basket_sets.drop('POSTAGE', inplace=True, axis=1)"
   ]
  },
  {
   "cell_type": "markdown",
   "id": "9c644d81",
   "metadata": {},
   "source": [
    "# Training apriori model"
   ]
  },
  {
   "cell_type": "code",
   "execution_count": null,
   "id": "b54d4d5c",
   "metadata": {},
   "outputs": [],
   "source": [
    "#Generates frequent itemsets:\n",
    "german_frequent_itemsets = apriori(german_basket_sets, min_support=0.07, use_colnames=True) \n",
    "import warnings\n",
    "warnings.filterwarnings(\"ignore\")"
   ]
  },
  {
   "cell_type": "code",
   "execution_count": null,
   "id": "7905a530",
   "metadata": {},
   "outputs": [],
   "source": [
    "#Let set the rules:\n",
    "german_rules = association_rules(german_frequent_itemsets, metric='lift', min_threshold=1)"
   ]
  },
  {
   "cell_type": "code",
   "execution_count": null,
   "id": "71bfcdab",
   "metadata": {},
   "outputs": [],
   "source": [
    "#Let set the rules:\n",
    "#german_rules = association_rules(german_frequent_itemsets, metric='confidence', min_threshold=1)"
   ]
  },
  {
   "cell_type": "code",
   "execution_count": null,
   "id": "3a07db5d",
   "metadata": {},
   "outputs": [],
   "source": [
    "#Let us see the top 100 rules\n",
    "german_rules.head(100)"
   ]
  },
  {
   "cell_type": "markdown",
   "id": "50cdcf5b",
   "metadata": {},
   "source": [
    "# We can now make recommendations based on this rule"
   ]
  },
  {
   "cell_type": "code",
   "execution_count": null,
   "id": "48e7eda2",
   "metadata": {},
   "outputs": [],
   "source": [
    "german_rules['antecedents'].unique()"
   ]
  },
  {
   "cell_type": "code",
   "execution_count": null,
   "id": "d0fb34a8",
   "metadata": {},
   "outputs": [],
   "source": [
    "german_basket_sets['ROUND SNACK BOXES SET OF4 WOODLAND'].sum()"
   ]
  },
  {
   "cell_type": "code",
   "execution_count": null,
   "id": "1cdad0d6",
   "metadata": {},
   "outputs": [],
   "source": [
    "#Filtering rules based on conditions\n",
    "german_rules[(german_rules['lift'] >= 3) &\n",
    "            (german_rules['confidence'] >= 0.3)]"
   ]
  },
  {
   "cell_type": "code",
   "execution_count": null,
   "id": "575c06fc",
   "metadata": {},
   "outputs": [],
   "source": []
  }
 ],
 "metadata": {
  "kernelspec": {
   "display_name": "Python 3 (ipykernel)",
   "language": "python",
   "name": "python3"
  },
  "language_info": {
   "codemirror_mode": {
    "name": "ipython",
    "version": 3
   },
   "file_extension": ".py",
   "mimetype": "text/x-python",
   "name": "python",
   "nbconvert_exporter": "python",
   "pygments_lexer": "ipython3",
   "version": "3.11.5"
  }
 },
 "nbformat": 4,
 "nbformat_minor": 5
}
