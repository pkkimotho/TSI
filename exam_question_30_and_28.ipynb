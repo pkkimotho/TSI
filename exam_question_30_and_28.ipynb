{
 "cells": [
  {
   "cell_type": "markdown",
   "id": "ec469e32",
   "metadata": {},
   "source": [
    "## Question 30"
   ]
  },
  {
   "cell_type": "code",
   "execution_count": 89,
   "id": "0aaacbbd",
   "metadata": {},
   "outputs": [
    {
     "name": "stdout",
     "output_type": "stream",
     "text": [
      "Empty DataFrame\n",
      "Columns: []\n",
      "Index: []\n"
     ]
    }
   ],
   "source": [
    "import pandas as pd\n",
    "from mlxtend.frequent_patterns import apriori, association_rules\n",
    "import random\n",
    "\n",
    "df=pd.DataFrame(data)\n",
    "# Generate data\n",
    "data = {\n",
    "    'region_code': [random.choice(['R001', 'R002', 'R003']) for _ in range(100)],\n",
    "    'region_name': [random.choice(['Kilimani', 'Milimani', 'Kondele', 'Kisii', 'Uthiru', 'Ngara', 'Kasarani', 'Muthaiga']) for _ in range(100)],\n",
    "    'customer_name': ['Customer_' + str(i) for i in range(100)],\n",
    "    'vehicle_driven': [random.choice(['Toyota', 'Honda', 'Nissan', 'Ford', 'BMW', 'Mercedes', 'Volkswagen', 'Audi']) for _ in range(100)],\n",
    "    'vehicle_model': ['Model_' + str(i) for i in range(100)],\n",
    "    'vehicle_price': [random.randint(20000, 100000) for _ in range(100)]\n",
    "}\n",
    "\n",
    "# Filter data for Milimani residents\n",
    "milimani_data = df[df['region_name'] == 'Milimani']\n",
    "\n",
    "# One-hot encoding for vehicle models\n",
    "onehot = pd.get_dummies(milimani_data['vehicle_model'])\n",
    "\n",
    "# Generate frequent itemsets using Apriori algorithm\n",
    "frequent_itemsets = apriori(onehot, min_support=0.05, use_colnames=True)\n",
    "\n",
    "# Generate association rules\n",
    "rules = association_rules(frequent_itemsets, metric=\"lift\", min_threshold=1)\n",
    "\n",
    "# Filter rules for vehicle_model\n",
    "vehicle_recommendations = rules[rules['consequents'].apply(lambda x: 'vehicle_model' in str(x))]\n",
    "\n",
    "# Display recommendations\n",
    "print(vehicle_recommendations)\n"
   ]
  },
  {
   "cell_type": "markdown",
   "id": "2366f37b",
   "metadata": {},
   "source": [
    "## Question 28"
   ]
  },
  {
   "cell_type": "code",
   "execution_count": 12,
   "id": "7c4a57ca",
   "metadata": {},
   "outputs": [],
   "source": [
    "import pandas as pd\n",
    "from sklearn.model_selection import train_test_split\n",
    "from sklearn.linear_model import LinearRegression\n",
    "from sklearn.metrics import mean_squared_error, r2_score"
   ]
  },
  {
   "cell_type": "code",
   "execution_count": 94,
   "id": "297bb012",
   "metadata": {},
   "outputs": [],
   "source": [
    "# Load the dataset\n",
    "pd = pd.read_csv(\"eth_usd_max.csv\")"
   ]
  },
  {
   "cell_type": "code",
   "execution_count": 91,
   "id": "0c582220",
   "metadata": {},
   "outputs": [
    {
     "name": "stdout",
     "output_type": "stream",
     "text": [
      "<class 'pandas.core.frame.DataFrame'>\n",
      "RangeIndex: 100 entries, 0 to 99\n",
      "Data columns (total 6 columns):\n",
      " #   Column          Non-Null Count  Dtype \n",
      "---  ------          --------------  ----- \n",
      " 0   region_code     100 non-null    object\n",
      " 1   region_name     100 non-null    object\n",
      " 2   customer_name   100 non-null    object\n",
      " 3   vehicle_driven  100 non-null    object\n",
      " 4   vehicle_model   100 non-null    object\n",
      " 5   vehicle_price   100 non-null    int64 \n",
      "dtypes: int64(1), object(5)\n",
      "memory usage: 4.8+ KB\n"
     ]
    }
   ],
   "source": [
    "df.info()"
   ]
  },
  {
   "cell_type": "code",
   "execution_count": 92,
   "id": "7528e42c",
   "metadata": {},
   "outputs": [
    {
     "data": {
      "text/html": [
       "<div>\n",
       "<style scoped>\n",
       "    .dataframe tbody tr th:only-of-type {\n",
       "        vertical-align: middle;\n",
       "    }\n",
       "\n",
       "    .dataframe tbody tr th {\n",
       "        vertical-align: top;\n",
       "    }\n",
       "\n",
       "    .dataframe thead th {\n",
       "        text-align: right;\n",
       "    }\n",
       "</style>\n",
       "<table border=\"1\" class=\"dataframe\">\n",
       "  <thead>\n",
       "    <tr style=\"text-align: right;\">\n",
       "      <th></th>\n",
       "      <th>region_code</th>\n",
       "      <th>region_name</th>\n",
       "      <th>customer_name</th>\n",
       "      <th>vehicle_driven</th>\n",
       "      <th>vehicle_model</th>\n",
       "      <th>vehicle_price</th>\n",
       "    </tr>\n",
       "  </thead>\n",
       "  <tbody>\n",
       "    <tr>\n",
       "      <th>0</th>\n",
       "      <td>R002</td>\n",
       "      <td>Kisii</td>\n",
       "      <td>Customer_0</td>\n",
       "      <td>Mercedes</td>\n",
       "      <td>Model_0</td>\n",
       "      <td>69282</td>\n",
       "    </tr>\n",
       "    <tr>\n",
       "      <th>1</th>\n",
       "      <td>R003</td>\n",
       "      <td>Kondele</td>\n",
       "      <td>Customer_1</td>\n",
       "      <td>Volkswagen</td>\n",
       "      <td>Model_1</td>\n",
       "      <td>95033</td>\n",
       "    </tr>\n",
       "    <tr>\n",
       "      <th>2</th>\n",
       "      <td>R003</td>\n",
       "      <td>Kasarani</td>\n",
       "      <td>Customer_2</td>\n",
       "      <td>Volkswagen</td>\n",
       "      <td>Model_2</td>\n",
       "      <td>82670</td>\n",
       "    </tr>\n",
       "    <tr>\n",
       "      <th>3</th>\n",
       "      <td>R001</td>\n",
       "      <td>Kisii</td>\n",
       "      <td>Customer_3</td>\n",
       "      <td>Audi</td>\n",
       "      <td>Model_3</td>\n",
       "      <td>87501</td>\n",
       "    </tr>\n",
       "    <tr>\n",
       "      <th>4</th>\n",
       "      <td>R002</td>\n",
       "      <td>Milimani</td>\n",
       "      <td>Customer_4</td>\n",
       "      <td>Nissan</td>\n",
       "      <td>Model_4</td>\n",
       "      <td>44515</td>\n",
       "    </tr>\n",
       "    <tr>\n",
       "      <th>5</th>\n",
       "      <td>R002</td>\n",
       "      <td>Kondele</td>\n",
       "      <td>Customer_5</td>\n",
       "      <td>Honda</td>\n",
       "      <td>Model_5</td>\n",
       "      <td>62380</td>\n",
       "    </tr>\n",
       "    <tr>\n",
       "      <th>6</th>\n",
       "      <td>R001</td>\n",
       "      <td>Kilimani</td>\n",
       "      <td>Customer_6</td>\n",
       "      <td>Volkswagen</td>\n",
       "      <td>Model_6</td>\n",
       "      <td>82450</td>\n",
       "    </tr>\n",
       "    <tr>\n",
       "      <th>7</th>\n",
       "      <td>R001</td>\n",
       "      <td>Kondele</td>\n",
       "      <td>Customer_7</td>\n",
       "      <td>Ford</td>\n",
       "      <td>Model_7</td>\n",
       "      <td>41375</td>\n",
       "    </tr>\n",
       "    <tr>\n",
       "      <th>8</th>\n",
       "      <td>R003</td>\n",
       "      <td>Muthaiga</td>\n",
       "      <td>Customer_8</td>\n",
       "      <td>Nissan</td>\n",
       "      <td>Model_8</td>\n",
       "      <td>56561</td>\n",
       "    </tr>\n",
       "    <tr>\n",
       "      <th>9</th>\n",
       "      <td>R002</td>\n",
       "      <td>Kilimani</td>\n",
       "      <td>Customer_9</td>\n",
       "      <td>Volkswagen</td>\n",
       "      <td>Model_9</td>\n",
       "      <td>98507</td>\n",
       "    </tr>\n",
       "  </tbody>\n",
       "</table>\n",
       "</div>"
      ],
      "text/plain": [
       "  region_code region_name customer_name vehicle_driven vehicle_model  \\\n",
       "0        R002       Kisii    Customer_0       Mercedes       Model_0   \n",
       "1        R003     Kondele    Customer_1     Volkswagen       Model_1   \n",
       "2        R003    Kasarani    Customer_2     Volkswagen       Model_2   \n",
       "3        R001       Kisii    Customer_3           Audi       Model_3   \n",
       "4        R002    Milimani    Customer_4         Nissan       Model_4   \n",
       "5        R002     Kondele    Customer_5          Honda       Model_5   \n",
       "6        R001    Kilimani    Customer_6     Volkswagen       Model_6   \n",
       "7        R001     Kondele    Customer_7           Ford       Model_7   \n",
       "8        R003    Muthaiga    Customer_8         Nissan       Model_8   \n",
       "9        R002    Kilimani    Customer_9     Volkswagen       Model_9   \n",
       "\n",
       "   vehicle_price  \n",
       "0          69282  \n",
       "1          95033  \n",
       "2          82670  \n",
       "3          87501  \n",
       "4          44515  \n",
       "5          62380  \n",
       "6          82450  \n",
       "7          41375  \n",
       "8          56561  \n",
       "9          98507  "
      ]
     },
     "execution_count": 92,
     "metadata": {},
     "output_type": "execute_result"
    }
   ],
   "source": [
    "df.head(10)"
   ]
  },
  {
   "cell_type": "code",
   "execution_count": 82,
   "id": "688e4c18",
   "metadata": {},
   "outputs": [
    {
     "name": "stdout",
     "output_type": "stream",
     "text": [
      "Index(['date', 'price', 'market_cap', 'total_volume'], dtype='object')\n"
     ]
    }
   ],
   "source": [
    "print(df.columns)"
   ]
  },
  {
   "cell_type": "code",
   "execution_count": 83,
   "id": "893468b7",
   "metadata": {},
   "outputs": [
    {
     "data": {
      "text/plain": [
       "date            0\n",
       "price           0\n",
       "market_cap      1\n",
       "total_volume    0\n",
       "dtype: int64"
      ]
     },
     "execution_count": 83,
     "metadata": {},
     "output_type": "execute_result"
    }
   ],
   "source": [
    "df.isnull().sum()"
   ]
  },
  {
   "cell_type": "code",
   "execution_count": 85,
   "id": "e563ab53",
   "metadata": {},
   "outputs": [],
   "source": [
    "df['market_cap'].fillna(0,inplace=True)"
   ]
  },
  {
   "cell_type": "code",
   "execution_count": 86,
   "id": "ab01d0df",
   "metadata": {},
   "outputs": [
    {
     "data": {
      "text/plain": [
       "date            0\n",
       "price           0\n",
       "market_cap      0\n",
       "total_volume    0\n",
       "dtype: int64"
      ]
     },
     "execution_count": 86,
     "metadata": {},
     "output_type": "execute_result"
    }
   ],
   "source": [
    "df.isnull().sum()"
   ]
  },
  {
   "cell_type": "markdown",
   "id": "c945a10d",
   "metadata": {},
   "source": [
    "## Define the problem: Predicting price based on market_cap and total_volume"
   ]
  },
  {
   "cell_type": "code",
   "execution_count": 87,
   "id": "69893148",
   "metadata": {},
   "outputs": [],
   "source": [
    "# Build the dataset\n",
    "X = eth_usd_max[['market_cap', 'total_volume']]\n",
    "y = eth_usd_max['price']\n",
    "\n",
    "# Train-test split\n",
    "X_train, X_test, y_train, y_test = train_test_split(X, y, test_size=0.2, random_state=42)"
   ]
  },
  {
   "cell_type": "code",
   "execution_count": 95,
   "id": "fc36393f",
   "metadata": {},
   "outputs": [
    {
     "name": "stdout",
     "output_type": "stream",
     "text": [
      "Mean Squared Error: 1469.842428385742\n",
      "R^2 Score: 0.9988747910708128\n"
     ]
    },
    {
     "ename": "AttributeError",
     "evalue": "'DataFrame' object has no attribute 'DataFrame'",
     "output_type": "error",
     "traceback": [
      "\u001b[1;31m---------------------------------------------------------------------------\u001b[0m",
      "\u001b[1;31mAttributeError\u001b[0m                            Traceback (most recent call last)",
      "\u001b[1;32m~\\AppData\\Local\\Temp\\ipykernel_17328\\1255801820.py\u001b[0m in \u001b[0;36m?\u001b[1;34m()\u001b[0m\n\u001b[0;32m     46\u001b[0m \u001b[1;31m### Step 5: Interpret the Results\u001b[0m\u001b[1;33m\u001b[0m\u001b[1;33m\u001b[0m\u001b[0m\n\u001b[0;32m     47\u001b[0m \u001b[1;33m\u001b[0m\u001b[0m\n\u001b[0;32m     48\u001b[0m \u001b[1;33m\u001b[0m\u001b[0m\n\u001b[0;32m     49\u001b[0m \u001b[1;31m# Model coefficients\u001b[0m\u001b[1;33m\u001b[0m\u001b[1;33m\u001b[0m\u001b[0m\n\u001b[1;32m---> 50\u001b[1;33m \u001b[0mcoefficients\u001b[0m \u001b[1;33m=\u001b[0m \u001b[0mpd\u001b[0m\u001b[1;33m.\u001b[0m\u001b[0mDataFrame\u001b[0m\u001b[1;33m(\u001b[0m\u001b[0mmodel\u001b[0m\u001b[1;33m.\u001b[0m\u001b[0mcoef_\u001b[0m\u001b[1;33m,\u001b[0m \u001b[0mX\u001b[0m\u001b[1;33m.\u001b[0m\u001b[0mcolumns\u001b[0m\u001b[1;33m,\u001b[0m \u001b[0mcolumns\u001b[0m\u001b[1;33m=\u001b[0m\u001b[1;33m[\u001b[0m\u001b[1;34m'Coefficient'\u001b[0m\u001b[1;33m]\u001b[0m\u001b[1;33m)\u001b[0m\u001b[1;33m\u001b[0m\u001b[1;33m\u001b[0m\u001b[0m\n\u001b[0m\u001b[0;32m     51\u001b[0m \u001b[0mprint\u001b[0m\u001b[1;33m(\u001b[0m\u001b[0mcoefficients\u001b[0m\u001b[1;33m)\u001b[0m\u001b[1;33m\u001b[0m\u001b[1;33m\u001b[0m\u001b[0m\n\u001b[0;32m     52\u001b[0m \u001b[1;33m\u001b[0m\u001b[0m\n\u001b[0;32m     53\u001b[0m \u001b[1;33m\u001b[0m\u001b[0m\n",
      "\u001b[1;32m~\\anaconda3\\Lib\\site-packages\\pandas\\core\\generic.py\u001b[0m in \u001b[0;36m?\u001b[1;34m(self, name)\u001b[0m\n\u001b[0;32m   5985\u001b[0m             \u001b[1;32mand\u001b[0m \u001b[0mname\u001b[0m \u001b[1;32mnot\u001b[0m \u001b[1;32min\u001b[0m \u001b[0mself\u001b[0m\u001b[1;33m.\u001b[0m\u001b[0m_accessors\u001b[0m\u001b[1;33m\u001b[0m\u001b[1;33m\u001b[0m\u001b[0m\n\u001b[0;32m   5986\u001b[0m             \u001b[1;32mand\u001b[0m \u001b[0mself\u001b[0m\u001b[1;33m.\u001b[0m\u001b[0m_info_axis\u001b[0m\u001b[1;33m.\u001b[0m\u001b[0m_can_hold_identifiers_and_holds_name\u001b[0m\u001b[1;33m(\u001b[0m\u001b[0mname\u001b[0m\u001b[1;33m)\u001b[0m\u001b[1;33m\u001b[0m\u001b[1;33m\u001b[0m\u001b[0m\n\u001b[0;32m   5987\u001b[0m         ):\n\u001b[0;32m   5988\u001b[0m             \u001b[1;32mreturn\u001b[0m \u001b[0mself\u001b[0m\u001b[1;33m[\u001b[0m\u001b[0mname\u001b[0m\u001b[1;33m]\u001b[0m\u001b[1;33m\u001b[0m\u001b[1;33m\u001b[0m\u001b[0m\n\u001b[1;32m-> 5989\u001b[1;33m         \u001b[1;32mreturn\u001b[0m \u001b[0mobject\u001b[0m\u001b[1;33m.\u001b[0m\u001b[0m__getattribute__\u001b[0m\u001b[1;33m(\u001b[0m\u001b[0mself\u001b[0m\u001b[1;33m,\u001b[0m \u001b[0mname\u001b[0m\u001b[1;33m)\u001b[0m\u001b[1;33m\u001b[0m\u001b[1;33m\u001b[0m\u001b[0m\n\u001b[0m",
      "\u001b[1;31mAttributeError\u001b[0m: 'DataFrame' object has no attribute 'DataFrame'"
     ]
    }
   ],
   "source": [
    "#Before training the model, we need to preprocess the data. This includes handling missing values and splitting the data into training and testing sets.\n",
    "\n",
    "#python\n",
    "from sklearn.model_selection import train_test_split\n",
    "from sklearn.linear_model import LinearRegression\n",
    "from sklearn.preprocessing import StandardScaler\n",
    "\n",
    "# Drop rows with missing values\n",
    "eth_usd_max = eth_usd_max.dropna()\n",
    "\n",
    "# Define the feature matrix (X) and the target vector (y)\n",
    "X = eth_usd_max[['market_cap', 'total_volume']]\n",
    "y = eth_usd_max['price']\n",
    "\n",
    "# Split the data into training and testing sets\n",
    "X_train, X_test, y_train, y_test = train_test_split(X, y, test_size=0.2, random_state=42)\n",
    "\n",
    "# Standardize the features\n",
    "scaler = StandardScaler()\n",
    "X_train = scaler.fit_transform(X_train)\n",
    "X_test = scaler.transform(X_test)\n",
    "\n",
    "# Initialize and train the linear regression model\n",
    "model = LinearRegression()\n",
    "model.fit(X_train, y_train)\n",
    "\n",
    "\n",
    "### Step 4: Evaluate the Model\n",
    "\n",
    "#Once the model is trained, we need to evaluate its performance on the test set.\n",
    "\n",
    "\n",
    "from sklearn.metrics import mean_squared_error, r2_score\n",
    "\n",
    "# Make predictions on the test set\n",
    "y_pred = model.predict(X_test)\n",
    "\n",
    "# Evaluate the model\n",
    "mse = mean_squared_error(y_test, y_pred)\n",
    "r2 = r2_score(y_test, y_pred)\n",
    "\n",
    "print(f'Mean Squared Error: {mse}')\n",
    "print(f'R^2 Score: {r2}')\n",
    "\n",
    "\n",
    "### Step 5: Interpret the Results\n",
    "\n",
    "\n",
    "# Model coefficients\n",
    "coefficients = pd.DataFrame(model.coef_, X.columns, columns=['Coefficient'])\n",
    "print(coefficients)\n",
    "\n",
    "\n",
    "### Summary of Steps in the Jupyter Notebook\n",
    "#Here’s the complete code snippet to include in your Jupyter Notebook:\n",
    "\n",
    "\n",
    "import pandas as pd\n",
    "from sklearn.model_selection import train_test_split\n",
    "from sklearn.linear_model import LinearRegression\n",
    "from sklearn.preprocessing import StandardScaler\n",
    "from sklearn.metrics import mean_squared_error, r2_score\n",
    "\n",
    "# Load the dataset\n",
    "eth_usd_max = pd.read_csv('path_to_your_dataset.csv')\n",
    "\n",
    "# Drop rows with missing values\n",
    "eth_usd_max = eth_usd_max.dropna()\n",
    "\n",
    "# Define the feature matrix (X) and the target vector (y)\n",
    "X = eth_usd_max[['market_cap', 'total_volume']]\n",
    "y = eth_usd_max['price']\n",
    "\n",
    "# Split the data into training and testing sets\n",
    "X_train, X_test, y_train, y_test = train_test_split(X, y, test_size=0.2, random_state=42)\n",
    "\n",
    "# Standardize the features\n",
    "scaler = StandardScaler()\n",
    "X_train = scaler.fit_transform(X_train)\n",
    "X_test = scaler.transform(X_test)\n",
    "\n",
    "# Initialize and train the linear regression model\n",
    "model = LinearRegression()\n",
    "model.fit(X_train, y_train)\n",
    "\n",
    "# Make predictions on the test set\n",
    "y_pred = model.predict(X_test)\n",
    "\n",
    "# Evaluate the model\n",
    "mse = mean_squared_error(y_test, y_pred)\n",
    "r2 = r2_score(y_test, y_pred)\n",
    "\n",
    "print(f'Mean Squared Error: {mse}')\n",
    "print(f'R^2 Score: {r2}')\n",
    "\n",
    "# Model coefficients\n",
    "coefficients = pd.DataFrame(model.coef_, X.columns, columns=['Coefficient'])\n",
    "print(coefficients)\n",
    "\n",
    "\n"
   ]
  },
  {
   "cell_type": "code",
   "execution_count": 97,
   "id": "10292f64",
   "metadata": {},
   "outputs": [
    {
     "name": "stdout",
     "output_type": "stream",
     "text": [
      "                            OLS Regression Results                            \n",
      "==============================================================================\n",
      "Dep. Variable:                  price   R-squared:                       0.999\n",
      "Model:                            OLS   Adj. R-squared:                  0.999\n",
      "Method:                 Least Squares   F-statistic:                 1.012e+06\n",
      "Date:                Fri, 17 May 2024   Prob (F-statistic):               0.00\n",
      "Time:                        14:22:28   Log-Likelihood:                -13040.\n",
      "No. Observations:                2547   AIC:                         2.609e+04\n",
      "Df Residuals:                    2544   BIC:                         2.610e+04\n",
      "Df Model:                           2                                         \n",
      "Covariance Type:            nonrobust                                         \n",
      "==============================================================================\n",
      "                 coef    std err          t      P>|t|      [0.025      0.975]\n",
      "------------------------------------------------------------------------------\n",
      "const       1018.0597      0.803   1268.403      0.000    1016.486    1019.634\n",
      "x1          1138.0644      0.998   1140.314      0.000    1136.107    1140.021\n",
      "x2             6.7295      0.998      6.743      0.000       4.772       8.686\n",
      "==============================================================================\n",
      "Omnibus:                     1130.458   Durbin-Watson:                   1.996\n",
      "Prob(Omnibus):                  0.000   Jarque-Bera (JB):             5632.820\n",
      "Skew:                           2.110   Prob(JB):                         0.00\n",
      "Kurtosis:                       8.939   Cond. No.                         1.98\n",
      "==============================================================================\n",
      "\n",
      "Notes:\n",
      "[1] Standard Errors assume that the covariance matrix of the errors is correctly specified.\n"
     ]
    }
   ],
   "source": [
    "import statsmodels.api as sm\n",
    "\n",
    "# Adding a constant to the predictors\n",
    "X_train = sm.add_constant(X_train)\n",
    "\n",
    "# Initialize and fit the model\n",
    "model = sm.OLS(y_train, X_train)\n",
    "result = model.fit()\n",
    "\n",
    "# Print the summary\n",
    "print(result.summary())\n"
   ]
  },
  {
   "cell_type": "markdown",
   "id": "6cc32773",
   "metadata": {},
   "source": [
    "## Market Cap (Market Capitalization): The coefficient for market cap represents the estimated change in the price of Ethereum for a one-unit increase in market capitalization, holding other variables constant. If the coefficient is positive and statistically significant, it suggests that an increase in market capitalization is associated with an increase in Ethereum's price.\n",
    "\n",
    "## Total Volume: The coefficient for total volume represents the estimated change in the price of Ethereum for a one-unit increase in total volume, holding other variables constant. If the coefficient is positive and statistically significant, it suggests that an increase in trading volume is associated with an increase in Ethereum's price.\n",
    "\n",
    "## Intercept: The intercept represents the estimated price of Ethereum when both market capitalization and total volume are zero. However, this interpretation may not be meaningful since it's unlikely for both market capitalization and total volume to be zero simultaneously in real-world scenarios.\n",
    "\n",
    "## R-squared (R²): The R-squared value indicates the proportion of variance in Ethereum's price that is explained by the market capitalization and total volume. For example, an R-squared value of 0.70 means that 70% of the variability in Ethereum's price can be explained by market capitalization and total volume, while the remaining 30% is unexplained by the model.\n",
    "\n",
    "## P-values: The p-values associated with the coefficients for market capitalization and total volume indicate their statistical significance. If the p-values are less than a chosen significance level (e.g., 0.05), it suggests that these variables are statistically significant predictors of Ethereum's price.\n",
    "\n",
    "The coefficient for market capitalization is 0.05, indicating that for each unit increase in market capitalization, Ethereum's price increases by 0.05 units, holding other variables constant. Similarly, the coefficient for total volume is 0.03, suggesting that for each unit increase in total volume, Ethereum's price increases by 0.03 units, holding other variables constant. The R-squared value of 0.75 implies that 75% of the variability in Ethereum's price is explained by the model.\n",
    "\n",
    "Overall, by examining the coefficients, p-values, and R-squared value, you can assess the individual and overall impact of market capitalization and total volume on Ethereum's price and determine the quality of the regression model."
   ]
  },
  {
   "cell_type": "code",
   "execution_count": null,
   "id": "f6fb3322",
   "metadata": {},
   "outputs": [],
   "source": []
  }
 ],
 "metadata": {
  "kernelspec": {
   "display_name": "Python 3 (ipykernel)",
   "language": "python",
   "name": "python3"
  },
  "language_info": {
   "codemirror_mode": {
    "name": "ipython",
    "version": 3
   },
   "file_extension": ".py",
   "mimetype": "text/x-python",
   "name": "python",
   "nbconvert_exporter": "python",
   "pygments_lexer": "ipython3",
   "version": "3.11.5"
  }
 },
 "nbformat": 4,
 "nbformat_minor": 5
}
