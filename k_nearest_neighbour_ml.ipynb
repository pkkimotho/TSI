{
 "cells": [
  {
   "cell_type": "markdown",
   "id": "0f9d9327",
   "metadata": {},
   "source": [
    "# MACHINE LEARNING; SUPERVISED LEARNING\n"
   ]
  },
  {
   "cell_type": "markdown",
   "id": "b535293b",
   "metadata": {},
   "source": [
    "# K-NEAREST NEIGHBOUR(KNN)   7th Feb 2024"
   ]
  },
  {
   "cell_type": "code",
   "execution_count": null,
   "id": "85ac468a",
   "metadata": {},
   "outputs": [],
   "source": []
  },
  {
   "cell_type": "code",
   "execution_count": 1,
   "id": "cc8d804f",
   "metadata": {},
   "outputs": [],
   "source": [
    "\n",
    "\n",
    "df = {\n",
    "    \"age\": [27, 58, 19, 37, 43, 22, 78, 38, 48, 26],\n",
    "    \"salary\": [127000, 235000, 30000, 125000, 87000, 78000, 756000, 112000, 180000, 256000],\n",
    "    \"employee_level\": [\"Junior_Level\", \"Senior_Level\", \"Junior_Level\", \"Mid_Level\", \"Midlevel\", \"Junior_Level\", \"Senior_Level\", \"Midlevel\", \"Midlevel\", \"Junior_Level\"]\n",
    "}"
   ]
  },
  {
   "cell_type": "code",
   "execution_count": 2,
   "id": "5a342768",
   "metadata": {},
   "outputs": [],
   "source": [
    "import pandas as pd\n"
   ]
  },
  {
   "cell_type": "code",
   "execution_count": 3,
   "id": "0215e3bd",
   "metadata": {},
   "outputs": [],
   "source": [
    "df=pd.DataFrame(df)"
   ]
  },
  {
   "cell_type": "code",
   "execution_count": 4,
   "id": "59bee82d",
   "metadata": {
    "scrolled": true
   },
   "outputs": [
    {
     "data": {
      "text/html": [
       "<div>\n",
       "<style scoped>\n",
       "    .dataframe tbody tr th:only-of-type {\n",
       "        vertical-align: middle;\n",
       "    }\n",
       "\n",
       "    .dataframe tbody tr th {\n",
       "        vertical-align: top;\n",
       "    }\n",
       "\n",
       "    .dataframe thead th {\n",
       "        text-align: right;\n",
       "    }\n",
       "</style>\n",
       "<table border=\"1\" class=\"dataframe\">\n",
       "  <thead>\n",
       "    <tr style=\"text-align: right;\">\n",
       "      <th></th>\n",
       "      <th>age</th>\n",
       "      <th>salary</th>\n",
       "      <th>employee_level</th>\n",
       "    </tr>\n",
       "  </thead>\n",
       "  <tbody>\n",
       "    <tr>\n",
       "      <th>0</th>\n",
       "      <td>27</td>\n",
       "      <td>127000</td>\n",
       "      <td>Junior_Level</td>\n",
       "    </tr>\n",
       "    <tr>\n",
       "      <th>1</th>\n",
       "      <td>58</td>\n",
       "      <td>235000</td>\n",
       "      <td>Senior_Level</td>\n",
       "    </tr>\n",
       "    <tr>\n",
       "      <th>2</th>\n",
       "      <td>19</td>\n",
       "      <td>30000</td>\n",
       "      <td>Junior_Level</td>\n",
       "    </tr>\n",
       "    <tr>\n",
       "      <th>3</th>\n",
       "      <td>37</td>\n",
       "      <td>125000</td>\n",
       "      <td>Mid_Level</td>\n",
       "    </tr>\n",
       "    <tr>\n",
       "      <th>4</th>\n",
       "      <td>43</td>\n",
       "      <td>87000</td>\n",
       "      <td>Midlevel</td>\n",
       "    </tr>\n",
       "  </tbody>\n",
       "</table>\n",
       "</div>"
      ],
      "text/plain": [
       "   age  salary employee_level\n",
       "0   27  127000   Junior_Level\n",
       "1   58  235000   Senior_Level\n",
       "2   19   30000   Junior_Level\n",
       "3   37  125000      Mid_Level\n",
       "4   43   87000       Midlevel"
      ]
     },
     "execution_count": 4,
     "metadata": {},
     "output_type": "execute_result"
    }
   ],
   "source": [
    "df.head()"
   ]
  },
  {
   "cell_type": "code",
   "execution_count": 5,
   "id": "c3738d9c",
   "metadata": {},
   "outputs": [
    {
     "data": {
      "text/html": [
       "<div>\n",
       "<style scoped>\n",
       "    .dataframe tbody tr th:only-of-type {\n",
       "        vertical-align: middle;\n",
       "    }\n",
       "\n",
       "    .dataframe tbody tr th {\n",
       "        vertical-align: top;\n",
       "    }\n",
       "\n",
       "    .dataframe thead th {\n",
       "        text-align: right;\n",
       "    }\n",
       "</style>\n",
       "<table border=\"1\" class=\"dataframe\">\n",
       "  <thead>\n",
       "    <tr style=\"text-align: right;\">\n",
       "      <th></th>\n",
       "      <th>age</th>\n",
       "      <th>salary</th>\n",
       "    </tr>\n",
       "  </thead>\n",
       "  <tbody>\n",
       "    <tr>\n",
       "      <th>count</th>\n",
       "      <td>10.000000</td>\n",
       "      <td>10.000000</td>\n",
       "    </tr>\n",
       "    <tr>\n",
       "      <th>mean</th>\n",
       "      <td>39.600000</td>\n",
       "      <td>198600.000000</td>\n",
       "    </tr>\n",
       "    <tr>\n",
       "      <th>std</th>\n",
       "      <td>18.203785</td>\n",
       "      <td>207933.857005</td>\n",
       "    </tr>\n",
       "    <tr>\n",
       "      <th>min</th>\n",
       "      <td>19.000000</td>\n",
       "      <td>30000.000000</td>\n",
       "    </tr>\n",
       "    <tr>\n",
       "      <th>25%</th>\n",
       "      <td>26.250000</td>\n",
       "      <td>93250.000000</td>\n",
       "    </tr>\n",
       "    <tr>\n",
       "      <th>50%</th>\n",
       "      <td>37.500000</td>\n",
       "      <td>126000.000000</td>\n",
       "    </tr>\n",
       "    <tr>\n",
       "      <th>75%</th>\n",
       "      <td>46.750000</td>\n",
       "      <td>221250.000000</td>\n",
       "    </tr>\n",
       "    <tr>\n",
       "      <th>max</th>\n",
       "      <td>78.000000</td>\n",
       "      <td>756000.000000</td>\n",
       "    </tr>\n",
       "  </tbody>\n",
       "</table>\n",
       "</div>"
      ],
      "text/plain": [
       "             age         salary\n",
       "count  10.000000      10.000000\n",
       "mean   39.600000  198600.000000\n",
       "std    18.203785  207933.857005\n",
       "min    19.000000   30000.000000\n",
       "25%    26.250000   93250.000000\n",
       "50%    37.500000  126000.000000\n",
       "75%    46.750000  221250.000000\n",
       "max    78.000000  756000.000000"
      ]
     },
     "execution_count": 5,
     "metadata": {},
     "output_type": "execute_result"
    }
   ],
   "source": [
    "df.describe()"
   ]
  },
  {
   "cell_type": "code",
   "execution_count": 6,
   "id": "6c037a5f",
   "metadata": {},
   "outputs": [
    {
     "data": {
      "text/plain": [
       "(10, 3)"
      ]
     },
     "execution_count": 6,
     "metadata": {},
     "output_type": "execute_result"
    }
   ],
   "source": [
    "df.shape"
   ]
  },
  {
   "cell_type": "code",
   "execution_count": 7,
   "id": "8d2a7518",
   "metadata": {},
   "outputs": [],
   "source": [
    "knn_data=df.to_csv(r\"C:\\Users\\USER\\Desktop\\DATA  SCIENCE/knn_data\")"
   ]
  },
  {
   "cell_type": "code",
   "execution_count": null,
   "id": "93b97cbb",
   "metadata": {},
   "outputs": [],
   "source": []
  },
  {
   "cell_type": "code",
   "execution_count": 8,
   "id": "1a86b581",
   "metadata": {},
   "outputs": [
    {
     "name": "stdout",
     "output_type": "stream",
     "text": [
      "Predicted employee level: Mid Level\n"
     ]
    }
   ],
   "source": [
    "import pandas as pd\n",
    "from sklearn.model_selection import train_test_split as tts\n",
    "from sklearn.preprocessing import StandardScaler\n",
    "from sklearn.neighbors import KNeighborsClassifier\n",
    "import warnings as wn\n",
    "wn.filterwarnings(\"ignore\")\n",
    "\n",
    "# Data\n",
    "data = {\n",
    "    \"age\":[27,58,19,37,43,22,78,38,48,26],\n",
    "    \"salary\":[127000,235000,30000,125000,87000,78000,756000,112000,180000,256000],\n",
    "    \"employee_level\":[\"Junior\",\"Senior\",\"Junior\",\"Mid Level\",\"Mid level\",\"Junior\",\"Senior\",\"Mid level\",\"Mid level\",\"Junior\"]\n",
    "}\n",
    "df = pd.DataFrame(data)\n",
    "\n",
    "# Features and target variable\n",
    "X = df[['age', 'salary']]\n",
    "y = df['employee_level']\n",
    "\n",
    "# Standardize features\n",
    "scaler = StandardScaler()\n",
    "X_scaled = scaler.fit_transform(X)\n",
    "\n",
    "X_train,X_test,y_train,y_test = tts(X_scaled,y,test_size=0.2,random_state=42)\n",
    "# Model training\n",
    "k = 1  # number of neighbors\n",
    "model = KNeighborsClassifier(n_neighbors=k)\n",
    "model.fit(X_train\n",
    "          , y_train)\n",
    "\n",
    "# Prediction\n",
    "new_data = [[41, 200000]]\n",
    "new_data_scaled = scaler.transform(new_data)\n",
    "predicted_level = model.predict(new_data_scaled)\n",
    "\n",
    "print(\"Predicted employee level:\", predicted_level[0])"
   ]
  },
  {
   "cell_type": "code",
   "execution_count": null,
   "id": "4e4d402b",
   "metadata": {},
   "outputs": [],
   "source": []
  },
  {
   "cell_type": "code",
   "execution_count": null,
   "id": "c13ec788",
   "metadata": {},
   "outputs": [],
   "source": []
  }
 ],
 "metadata": {
  "kernelspec": {
   "display_name": "Python 3 (ipykernel)",
   "language": "python",
   "name": "python3"
  },
  "language_info": {
   "codemirror_mode": {
    "name": "ipython",
    "version": 3
   },
   "file_extension": ".py",
   "mimetype": "text/x-python",
   "name": "python",
   "nbconvert_exporter": "python",
   "pygments_lexer": "ipython3",
   "version": "3.11.5"
  }
 },
 "nbformat": 4,
 "nbformat_minor": 5
}
