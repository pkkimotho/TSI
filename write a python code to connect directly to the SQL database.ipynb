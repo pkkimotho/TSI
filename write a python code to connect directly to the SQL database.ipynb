{
 "cells": [
  {
   "cell_type": "markdown",
   "id": "7fddffbe",
   "metadata": {},
   "source": [
    "write a python code to connect directly to the SQL database"
   ]
  },
  {
   "cell_type": "code",
   "execution_count": 4,
   "id": "137deb33",
   "metadata": {},
   "outputs": [
    {
     "name": "stdout",
     "output_type": "stream",
     "text": [
      "Requirement already satisfied: psycopg2-binary in c:\\users\\user\\anaconda3\\lib\\site-packages (2.9.9)\n"
     ]
    }
   ],
   "source": [
    "#!pip install psycopg2-binary\n"
   ]
  },
  {
   "cell_type": "code",
   "execution_count": 5,
   "id": "47145e89",
   "metadata": {},
   "outputs": [
    {
     "name": "stdout",
     "output_type": "stream",
     "text": [
      "Requirement already satisfied: pymssql in c:\\users\\user\\anaconda3\\lib\\site-packages (2.3.0)\n"
     ]
    }
   ],
   "source": [
    "#!pip install pymssql"
   ]
  },
  {
   "cell_type": "code",
   "execution_count": 6,
   "id": "8b661783",
   "metadata": {},
   "outputs": [
    {
     "name": "stdout",
     "output_type": "stream",
     "text": [
      "An error occurred: (psycopg2.OperationalError) connection to server at \"localhost\" (::1), port 5432 failed: FATAL:  password authentication failed for user \"pgadmin4\"\n",
      "\n",
      "(Background on this error at: https://sqlalche.me/e/14/e3q8)\n"
     ]
    }
   ],
   "source": [
    "import pandas as pd\n",
    "from sqlalchemy import create_engine\n",
    "from sqlalchemy.exc import OperationalError\n",
    "\n",
    "# Read CSV file into a DataFrame\n",
    "df = pd.read_csv(\"eth_usd_max.csv\")\n",
    "\n",
    "# Database credentials\n",
    "db_server = \"localhost\"\n",
    "db_name = \"Kimsilversventures\"\n",
    "db_user = \"pgadmin4\"\n",
    "db_password = \"6789\"\n",
    "\n",
    "# Construct the database URL for PostgreSQL\n",
    "database_url = f\"postgresql://{db_user}:{db_password}@{db_server}/{db_name}\"\n",
    "\n",
    "# Create an engine\n",
    "engine = create_engine(database_url)\n",
    "\n",
    "# Assuming your table name is 'eth_usd_max'\n",
    "table_name = \"eth_usd_max\"\n",
    "\n",
    "try:\n",
    "    # Write DataFrame to SQL database\n",
    "    df.to_sql(table_name, engine, if_exists='replace', index=False)\n",
    "    print(\"Data written to database successfully.\")\n",
    "except OperationalError as e:\n",
    "    print(f\"An error occurred: {e}\")\n"
   ]
  },
  {
   "cell_type": "code",
   "execution_count": null,
   "id": "d1e79672",
   "metadata": {},
   "outputs": [],
   "source": []
  }
 ],
 "metadata": {
  "kernelspec": {
   "display_name": "Python 3 (ipykernel)",
   "language": "python",
   "name": "python3"
  },
  "language_info": {
   "codemirror_mode": {
    "name": "ipython",
    "version": 3
   },
   "file_extension": ".py",
   "mimetype": "text/x-python",
   "name": "python",
   "nbconvert_exporter": "python",
   "pygments_lexer": "ipython3",
   "version": "3.11.5"
  }
 },
 "nbformat": 4,
 "nbformat_minor": 5
}
